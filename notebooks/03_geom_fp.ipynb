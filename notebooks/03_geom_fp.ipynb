{
 "cells": [
  {
   "cell_type": "markdown",
   "id": "50b751af",
   "metadata": {},
   "source": [
    "# 03 · First‑Principles Curvature (Phase A)\n",
    "\n",
    "Compute Alexandrov interval chain counts and Benincasa–Dowker (BD)–style curvature **on existing edges**.\n",
    "\n",
    "**Note:** `bd_curvature_edge(site, (u,v), ...)` takes a direct arrow `u->v`. Calling it on a causal pair without a direct edge (e.g., `(0,3)` here) is invalid by design and will raise."
   ]
  },
  {
   "cell_type": "code",
   "execution_count": 1,
   "id": "4d2500f6",
   "metadata": {},
   "outputs": [
    {
     "data": {
      "text/plain": [
       "CausalSite(nodes=4, edges=4, layers=3, R=3)"
      ]
     },
     "execution_count": 1,
     "metadata": {},
     "output_type": "execute_result"
    }
   ],
   "source": [
    "import numpy as np\n",
    "from emergent.poset import CausalSite\n",
    "from emergent.geom_fp import alexandrov_interval, count_k_chains, bd_curvature_edge\n",
    "\n",
    "# Tiny 3‑layer site: edges (0->1), (0->2), (1->3), (2->3)\n",
    "nodes_by_depth = {0: [0], 1: [1, 2], 2: [3]}\n",
    "adj = {0: [1, 2], 1: [3], 2: [3]}\n",
    "site = CausalSite(nodes_by_depth, adj, R=3)\n",
    "site"
   ]
  },
  {
   "cell_type": "markdown",
   "id": "b54d49f0",
   "metadata": {},
   "source": [
    "### Alexandrov interval and chain counts\n",
    "The Alexandrov interval $I(0,3)$ includes all four nodes; chain counts are small and easy to inspect."
   ]
  },
  {
   "cell_type": "code",
   "execution_count": 2,
   "id": "5d8789db",
   "metadata": {},
   "outputs": [
    {
     "name": "stdout",
     "output_type": "stream",
     "text": [
      "Interval I(0,3) = {0, 1, 2, 3}\n",
      "C_1 = 4\n"
     ]
    },
    {
     "ename": "AttributeError",
     "evalue": "'CausalSite' object has no attribute 'reachable_from'",
     "output_type": "error",
     "traceback": [
      "\u001b[31m---------------------------------------------------------------------------\u001b[39m",
      "\u001b[31mAttributeError\u001b[39m                            Traceback (most recent call last)",
      "\u001b[36mCell\u001b[39m\u001b[36m \u001b[39m\u001b[32mIn[2]\u001b[39m\u001b[32m, line 4\u001b[39m\n\u001b[32m      2\u001b[39m \u001b[38;5;28mprint\u001b[39m(\u001b[33m\"\u001b[39m\u001b[33mInterval I(0,3) =\u001b[39m\u001b[33m\"\u001b[39m, I)\n\u001b[32m      3\u001b[39m \u001b[38;5;28;01mfor\u001b[39;00m k \u001b[38;5;129;01min\u001b[39;00m (\u001b[32m1\u001b[39m, \u001b[32m2\u001b[39m, \u001b[32m3\u001b[39m):\n\u001b[32m----> \u001b[39m\u001b[32m4\u001b[39m     \u001b[38;5;28mprint\u001b[39m(\u001b[33mf\u001b[39m\u001b[33m\"\u001b[39m\u001b[33mC_\u001b[39m\u001b[38;5;132;01m{\u001b[39;00mk\u001b[38;5;132;01m}\u001b[39;00m\u001b[33m =\u001b[39m\u001b[33m\"\u001b[39m, \u001b[43mcount_k_chains\u001b[49m\u001b[43m(\u001b[49m\u001b[43msite\u001b[49m\u001b[43m,\u001b[49m\u001b[43m \u001b[49m\u001b[43mI\u001b[49m\u001b[43m,\u001b[49m\u001b[43m \u001b[49m\u001b[43mk\u001b[49m\u001b[43m)\u001b[49m)\n",
      "\u001b[36mFile \u001b[39m\u001b[32m~\\Downloads\\emergent\\src\\emergent\\geom_fp.py:93\u001b[39m, in \u001b[36mcount_k_chains\u001b[39m\u001b[34m(site, nodes, k)\u001b[39m\n\u001b[32m     90\u001b[39m \u001b[38;5;28;01mfor\u001b[39;00m sub \u001b[38;5;129;01min\u001b[39;00m combinations(nodes, k):\n\u001b[32m     91\u001b[39m     \u001b[38;5;66;03m# sort by depth to accelerate rejections\u001b[39;00m\n\u001b[32m     92\u001b[39m     sub_sorted = \u001b[38;5;28mtuple\u001b[39m(\u001b[38;5;28msorted\u001b[39m(sub, key=\u001b[38;5;28;01mlambda\u001b[39;00m x: site.depths[x]))\n\u001b[32m---> \u001b[39m\u001b[32m93\u001b[39m     \u001b[38;5;28;01mif\u001b[39;00m \u001b[43m_is_chain\u001b[49m\u001b[43m(\u001b[49m\u001b[43msite\u001b[49m\u001b[43m,\u001b[49m\u001b[43m \u001b[49m\u001b[43msub_sorted\u001b[49m\u001b[43m)\u001b[49m:\n\u001b[32m     94\u001b[39m         total += \u001b[32m1\u001b[39m\n\u001b[32m     95\u001b[39m \u001b[38;5;28;01mreturn\u001b[39;00m total\n",
      "\u001b[36mFile \u001b[39m\u001b[32m~\\Downloads\\emergent\\src\\emergent\\geom_fp.py:74\u001b[39m, in \u001b[36m_is_chain\u001b[39m\u001b[34m(site, chain)\u001b[39m\n\u001b[32m     72\u001b[39m     b = chain[i + \u001b[32m1\u001b[39m]\n\u001b[32m     73\u001b[39m     \u001b[38;5;66;03m# a -> ... -> b must exist (b in future of a)\u001b[39;00m\n\u001b[32m---> \u001b[39m\u001b[32m74\u001b[39m     \u001b[38;5;28;01mif\u001b[39;00m b \u001b[38;5;129;01mnot\u001b[39;00m \u001b[38;5;129;01min\u001b[39;00m \u001b[43msite\u001b[49m\u001b[43m.\u001b[49m\u001b[43mreachable_from\u001b[49m.get(a, \u001b[38;5;28mset\u001b[39m()):\n\u001b[32m     75\u001b[39m         \u001b[38;5;28;01mreturn\u001b[39;00m \u001b[38;5;28;01mFalse\u001b[39;00m\n\u001b[32m     76\u001b[39m \u001b[38;5;28;01mreturn\u001b[39;00m \u001b[38;5;28;01mTrue\u001b[39;00m\n",
      "\u001b[31mAttributeError\u001b[39m: 'CausalSite' object has no attribute 'reachable_from'"
     ]
    }
   ],
   "source": [
    "I = alexandrov_interval(site, 0, 3)\n",
    "print(\"Interval I(0,3) =\", I)\n",
    "for k in (1, 2, 3):\n",
    "    print(f\"C_{k} =\", count_k_chains(site, I, k))"
   ]
  },
  {
   "cell_type": "markdown",
   "id": "87dd3fc4",
   "metadata": {},
   "source": [
    "### Edge curvature (valid arrows only)\n",
    "Choose any existing edge, e.g. `(1,3)` or `(0,1)`. For this tiny site the valid edges are `(0,1), (0,2), (1,3), (2,3)`."
   ]
  },
  {
   "cell_type": "code",
   "execution_count": 3,
   "id": "0f63f29f",
   "metadata": {},
   "outputs": [
    {
     "name": "stdout",
     "output_type": "stream",
     "text": [
      "Curvature on valid edges:\n"
     ]
    },
    {
     "ename": "AttributeError",
     "evalue": "'CausalSite' object has no attribute 'reachable_from'",
     "output_type": "error",
     "traceback": [
      "\u001b[31m---------------------------------------------------------------------------\u001b[39m",
      "\u001b[31mAttributeError\u001b[39m                            Traceback (most recent call last)",
      "\u001b[36mCell\u001b[39m\u001b[36m \u001b[39m\u001b[32mIn[3]\u001b[39m\u001b[32m, line 4\u001b[39m\n\u001b[32m      2\u001b[39m \u001b[38;5;28mprint\u001b[39m(\u001b[33m\"\u001b[39m\u001b[33mCurvature on valid edges:\u001b[39m\u001b[33m\"\u001b[39m)\n\u001b[32m      3\u001b[39m \u001b[38;5;28;01mfor\u001b[39;00m (u, v) \u001b[38;5;129;01min\u001b[39;00m valid_edges:\n\u001b[32m----> \u001b[39m\u001b[32m4\u001b[39m     kappa = \u001b[43mbd_curvature_edge\u001b[49m\u001b[43m(\u001b[49m\u001b[43msite\u001b[49m\u001b[43m,\u001b[49m\u001b[43m \u001b[49m\u001b[43m(\u001b[49m\u001b[43mu\u001b[49m\u001b[43m,\u001b[49m\u001b[43m \u001b[49m\u001b[43mv\u001b[49m\u001b[43m)\u001b[49m\u001b[43m,\u001b[49m\u001b[43m \u001b[49m\u001b[43mscheme\u001b[49m\u001b[43m=\u001b[49m\u001b[33;43m\"\u001b[39;49m\u001b[33;43m4D-lite\u001b[39;49m\u001b[33;43m\"\u001b[39;49m\u001b[43m)\u001b[49m\n\u001b[32m      5\u001b[39m     \u001b[38;5;28mprint\u001b[39m(\u001b[33mf\u001b[39m\u001b[33m\"\u001b[39m\u001b[33m  kappa_bd(\u001b[39m\u001b[38;5;132;01m{\u001b[39;00mu\u001b[38;5;132;01m}\u001b[39;00m\u001b[33m->\u001b[39m\u001b[38;5;132;01m{\u001b[39;00mv\u001b[38;5;132;01m}\u001b[39;00m\u001b[33m) = \u001b[39m\u001b[38;5;132;01m{\u001b[39;00mkappa\u001b[38;5;132;01m}\u001b[39;00m\u001b[33m\"\u001b[39m)\n",
      "\u001b[36mFile \u001b[39m\u001b[32m~\\Downloads\\emergent\\src\\emergent\\geom_fp.py:200\u001b[39m, in \u001b[36mbd_curvature_edge\u001b[39m\u001b[34m(site, edge, scheme, coeffs, max_chain_length)\u001b[39m\n\u001b[32m    198\u001b[39m     \u001b[38;5;28;01mif\u001b[39;00m k \u001b[38;5;129;01mnot\u001b[39;00m \u001b[38;5;129;01min\u001b[39;00m alphas:\n\u001b[32m    199\u001b[39m         \u001b[38;5;28;01mcontinue\u001b[39;00m\n\u001b[32m--> \u001b[39m\u001b[32m200\u001b[39m     Ck = \u001b[43mcount_k_chains\u001b[49m\u001b[43m(\u001b[49m\u001b[43msite\u001b[49m\u001b[43m,\u001b[49m\u001b[43m \u001b[49m\u001b[43minterval\u001b[49m\u001b[43m,\u001b[49m\u001b[43m \u001b[49m\u001b[43mk\u001b[49m\u001b[43m)\u001b[49m\n\u001b[32m    201\u001b[39m     kappa += alphas[k] * Ck\n\u001b[32m    202\u001b[39m \u001b[38;5;28;01mreturn\u001b[39;00m \u001b[38;5;28mfloat\u001b[39m(kappa)\n",
      "\u001b[36mFile \u001b[39m\u001b[32m~\\Downloads\\emergent\\src\\emergent\\geom_fp.py:93\u001b[39m, in \u001b[36mcount_k_chains\u001b[39m\u001b[34m(site, nodes, k)\u001b[39m\n\u001b[32m     90\u001b[39m \u001b[38;5;28;01mfor\u001b[39;00m sub \u001b[38;5;129;01min\u001b[39;00m combinations(nodes, k):\n\u001b[32m     91\u001b[39m     \u001b[38;5;66;03m# sort by depth to accelerate rejections\u001b[39;00m\n\u001b[32m     92\u001b[39m     sub_sorted = \u001b[38;5;28mtuple\u001b[39m(\u001b[38;5;28msorted\u001b[39m(sub, key=\u001b[38;5;28;01mlambda\u001b[39;00m x: site.depths[x]))\n\u001b[32m---> \u001b[39m\u001b[32m93\u001b[39m     \u001b[38;5;28;01mif\u001b[39;00m \u001b[43m_is_chain\u001b[49m\u001b[43m(\u001b[49m\u001b[43msite\u001b[49m\u001b[43m,\u001b[49m\u001b[43m \u001b[49m\u001b[43msub_sorted\u001b[49m\u001b[43m)\u001b[49m:\n\u001b[32m     94\u001b[39m         total += \u001b[32m1\u001b[39m\n\u001b[32m     95\u001b[39m \u001b[38;5;28;01mreturn\u001b[39;00m total\n",
      "\u001b[36mFile \u001b[39m\u001b[32m~\\Downloads\\emergent\\src\\emergent\\geom_fp.py:74\u001b[39m, in \u001b[36m_is_chain\u001b[39m\u001b[34m(site, chain)\u001b[39m\n\u001b[32m     72\u001b[39m     b = chain[i + \u001b[32m1\u001b[39m]\n\u001b[32m     73\u001b[39m     \u001b[38;5;66;03m# a -> ... -> b must exist (b in future of a)\u001b[39;00m\n\u001b[32m---> \u001b[39m\u001b[32m74\u001b[39m     \u001b[38;5;28;01mif\u001b[39;00m b \u001b[38;5;129;01mnot\u001b[39;00m \u001b[38;5;129;01min\u001b[39;00m \u001b[43msite\u001b[49m\u001b[43m.\u001b[49m\u001b[43mreachable_from\u001b[49m.get(a, \u001b[38;5;28mset\u001b[39m()):\n\u001b[32m     75\u001b[39m         \u001b[38;5;28;01mreturn\u001b[39;00m \u001b[38;5;28;01mFalse\u001b[39;00m\n\u001b[32m     76\u001b[39m \u001b[38;5;28;01mreturn\u001b[39;00m \u001b[38;5;28;01mTrue\u001b[39;00m\n",
      "\u001b[31mAttributeError\u001b[39m: 'CausalSite' object has no attribute 'reachable_from'"
     ]
    }
   ],
   "source": [
    "valid_edges = [(0, 1), (0, 2), (1, 3), (2, 3)]\n",
    "print(\"Curvature on valid edges:\")\n",
    "for (u, v) in valid_edges:\n",
    "    kappa = bd_curvature_edge(site, (u, v), scheme=\"4D-lite\")\n",
    "    print(f\"  kappa_bd({u}->{v}) = {kappa}\")"
   ]
  },
  {
   "cell_type": "markdown",
   "id": "c8f70dc4",
   "metadata": {},
   "source": [
    "### (Optional) Show the intended error on a non‑edge\n",
    "`(0,3)` is a causal pair but **not** a direct edge; attempting edge curvature there should raise."
   ]
  },
  {
   "cell_type": "code",
   "execution_count": 4,
   "id": "9c92e558",
   "metadata": {},
   "outputs": [
    {
     "name": "stdout",
     "output_type": "stream",
     "text": [
      "Expected error: Edge (0, 3) not present in site.\n"
     ]
    }
   ],
   "source": [
    "try:\n",
    "    _ = bd_curvature_edge(site, (0, 3), scheme=\"4D-lite\")\n",
    "except ValueError as e:\n",
    "    print(\"Expected error:\", e)"
   ]
  },
  {
   "cell_type": "code",
   "execution_count": null,
   "id": "8eb383cb-843d-4781-9389-911b041c0593",
   "metadata": {},
   "outputs": [],
   "source": []
  }
 ],
 "metadata": {
  "kernelspec": {
   "display_name": "Python 3 (ipykernel)",
   "language": "python",
   "name": "python3"
  },
  "language_info": {
   "codemirror_mode": {
    "name": "ipython",
    "version": 3
   },
   "file_extension": ".py",
   "mimetype": "text/x-python",
   "name": "python",
   "nbconvert_exporter": "python",
   "pygments_lexer": "ipython3",
   "version": "3.13.6"
  }
 },
 "nbformat": 4,
 "nbformat_minor": 5
}
